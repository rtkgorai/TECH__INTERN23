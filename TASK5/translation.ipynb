{
 "cells": [
  {
   "cell_type": "code",
   "execution_count": null,
   "id": "28377c96",
   "metadata": {},
   "outputs": [],
   "source": [
    "import numpy as np\n",
    "import tensorflow as tf\n",
    "from tensorflow import keras\n",
    "from tensorflow.keras.layers import Input, Dense, Masking\n",
    "from tensorflow.keras.models import Model\n",
    "from tensorflow.keras.preprocessing.sequence import pad_sequences"
   ]
  },
  {
   "cell_type": "code",
   "execution_count": null,
   "id": "8d65548a",
   "metadata": {},
   "outputs": [],
   "source": [
    "english_sentences=pd.read_csv('ef.csv')"
   ]
  },
  {
   "cell_type": "code",
   "execution_count": null,
   "id": "06e4000f",
   "metadata": {},
   "outputs": [],
   "source": [
    "french_sentences=pd.read_csv('ef.csv')"
   ]
  },
  {
   "cell_type": "code",
   "execution_count": null,
   "id": "1aded5d2",
   "metadata": {},
   "outputs": [],
   "source": [
    "tokenizer_en = tf.keras.preprocessing.text.Tokenizer(filters='')\n",
    "tokenizer_en.fit_on_texts(english_sentences)\n",
    "eng_seq = tokenizer_en.texts_to_sequences(english_sentences)\n",
    "eng_seq = pad_sequences(eng_seq, padding='post')\n",
    "tokenizer_fr = tf.keras.preprocessing.text.Tokenizer(filters='')\n",
    "tokenizer_fr.fit_on_texts(french_sentences)\n",
    "fr_seq = tokenizer_fr.texts_to_sequences(french_sentences)\n",
    "fr_seq = pad_sequences(fr_seq, padding='post')"
   ]
  },
  {
   "cell_type": "code",
   "execution_count": null,
   "id": "22f58b23",
   "metadata": {},
   "outputs": [],
   "source": [
    "vocab_size_en = len(tokenizer_en.word_index) + 1\n",
    "vocab_size_fr = len(tokenizer_fr.word_index) + 1\n"
   ]
  },
  {
   "cell_type": "code",
   "execution_count": null,
   "id": "1367854f",
   "metadata": {},
   "outputs": [],
   "source": [
    "input_shape = eng_seq.shape[1]\n",
    "embedding_dim = 256\n",
    "hidden_units = 512\n"
   ]
  },
  {
   "cell_type": "code",
   "execution_count": null,
   "id": "502c7f65",
   "metadata": {},
   "outputs": [],
   "source": [
    "encoder_inputs = Input(shape=(input_shape,))\n",
    "encoder_embedding = Masking(mask_value=0)(encoder_inputs)\n",
    "encoder_lstm = keras.layers.LSTM(hidden_units, return_state=True)\n",
    "encoder_outputs, state_h, state_c = encoder_lstm(encoder_embedding)\n",
    "encoder_states = [state_h, state_c]"
   ]
  },
  {
   "cell_type": "code",
   "execution_count": null,
   "id": "8a1e0cde",
   "metadata": {},
   "outputs": [],
   "source": [
    "decoder_inputs = Input(shape=(input_shape,))\n",
    "decoder_embedding = Masking(mask_value=0)(decoder_inputs)\n",
    "decoder_lstm = keras.layers.LSTM(hidden_units, return_sequences=True, return_state=True)\n",
    "decoder_outputs, _, _ = decoder_lstm(decoder_embedding, initial_state=encoder_states)\n",
    "decoder_dense = Dense(vocab_size_fr, activation='softmax')\n",
    "decoder_outputs = decoder_dense(decoder_outputs)\n"
   ]
  },
  {
   "cell_type": "code",
   "execution_count": null,
   "id": "42fff81d",
   "metadata": {},
   "outputs": [],
   "source": [
    "model = Model([encoder_inputs, decoder_inputs], decoder_outputs)\n",
    "model.compile(optimizer='adam', loss='sparse_categorical_crossentropy', metrics=['accuracy'])\n"
   ]
  },
  {
   "cell_type": "code",
   "execution_count": null,
   "id": "1430baac",
   "metadata": {},
   "outputs": [],
   "source": [
    "model.fit([eng_seq, fr_seq[:, :-1]], np.expand_dims(fr_seq[:, 1:], -1), batch_size=64, epochs=30, validation_split=0.2)\n"
   ]
  },
  {
   "cell_type": "code",
   "execution_count": null,
   "id": "50e7d372",
   "metadata": {},
   "outputs": [],
   "source": [
    "def translate_sentence(sentence):\n",
    "    sentence_seq = tokenizer_en.texts_to_sequences([sentence])\n",
    "    sentence_seq = pad_sequences(sentence_seq, padding='post', maxlen=input_shape)\n",
    "    translated_seq = np.argmax(model.predict([sentence_seq, np.zeros((len(sentence_seq), input_shape))]), axis=-1)\n",
    "    translated_sentence = ' '.join([tokenizer_fr.index_word[i] for i in translated_seq[0]])\n",
    "    return translated_sentence"
   ]
  },
  {
   "cell_type": "code",
   "execution_count": null,
   "id": "0c5d169f",
   "metadata": {},
   "outputs": [],
   "source": [
    "english_sentence = \"Hello, how are you?\"\n",
    "translated_sentence = translate_sentence(english_sentence)\n",
    "print(translated_sentence)"
   ]
  }
 ],
 "metadata": {
  "kernelspec": {
   "display_name": "Python 3 (ipykernel)",
   "language": "python",
   "name": "python3"
  },
  "language_info": {
   "codemirror_mode": {
    "name": "ipython",
    "version": 3
   },
   "file_extension": ".py",
   "mimetype": "text/x-python",
   "name": "python",
   "nbconvert_exporter": "python",
   "pygments_lexer": "ipython3",
   "version": "3.9.16"
  }
 },
 "nbformat": 4,
 "nbformat_minor": 5
}
