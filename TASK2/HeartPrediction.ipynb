{
 "cells": [
  {
   "cell_type": "code",
   "execution_count": 1,
   "id": "01b8e6ca",
   "metadata": {},
   "outputs": [],
   "source": [
    "import pandas as pd\n",
    "import numpy as np\n",
    "import matplotlib.pyplot as plt\n",
    "from sklearn.preprocessing import LabelEncoder\n",
    "from sklearn.model_selection import train_test_split\n",
    "from sklearn.linear_model import LogisticRegression\n",
    "from sklearn.metrics import accuracy_score"
   ]
  },
  {
   "cell_type": "code",
   "execution_count": 2,
   "id": "1d366a6e",
   "metadata": {},
   "outputs": [],
   "source": [
    "heartdf = pd.read_csv('heart.csv')"
   ]
  },
  {
   "cell_type": "code",
   "execution_count": 3,
   "id": "f6e586c9",
   "metadata": {},
   "outputs": [],
   "source": [
    "heartdf.head()"
   ]
  },
  {
   "cell_type": "code",
   "execution_count": 4,
   "id": "39949e71",
   "metadata": {},
   "outputs": [],
   "source": [
    "heartdf.tail()"
   ]
  },
  {
   "cell_type": "code",
   "execution_count": 5,
   "id": "152e90a2",
   "metadata": {},
   "outputs": [],
   "source": [
    "heartdf.size"
   ]
  },
  {
   "cell_type": "code",
   "execution_count": 6,
   "id": "d6aaa3ff",
   "metadata": {},
   "outputs": [],
   "source": [
    "heartdf.info()"
   ]
  },
  {
   "cell_type": "code",
   "execution_count": 7,
   "id": "e43e5b56",
   "metadata": {},
   "outputs": [],
   "source": [
    "heartdf['Sex'].unique()"
   ]
  },
  {
   "cell_type": "code",
   "execution_count": 8,
   "id": "04a8d41f",
   "metadata": {},
   "outputs": [],
   "source": [
    "heartdf.isnull().sum()"
   ]
  },
  {
   "cell_type": "code",
   "execution_count": 9,
   "id": "83044f64",
   "metadata": {},
   "outputs": [],
   "source": [
    "lbl_encode = LabelEncoder()"
   ]
  },
  {
   "cell_type": "code",
   "execution_count": 10,
   "id": "c39194c8",
   "metadata": {},
   "outputs": [],
   "source": [
    "heartdf['Sex'] = lbl_encode.fit_transform(heartdf['Sex'])"
   ]
  },
  {
   "cell_type": "code",
   "execution_count": 11,
   "id": "518b13bc",
   "metadata": {},
   "outputs": [],
   "source": [
    "heartdf['Sex'].value_counts()"
   ]
  },
  {
   "cell_type": "code",
   "execution_count": 12,
   "id": "531375a8",
   "metadata": {},
   "outputs": [],
   "source": [
    "heartdf.info()"
   ]
  },
  {
   "cell_type": "code",
   "execution_count": 13,
   "id": "f95d3e26",
   "metadata": {},
   "outputs": [],
   "source": [
    "heartdf['ChestPainType'] = lbl_encode.fit_transform(heartdf['ChestPainType'])"
   ]
  },
  {
   "cell_type": "code",
   "execution_count": 14,
   "id": "977e5493",
   "metadata": {},
   "outputs": [],
   "source": [
    "heartdf['RestingECG'] = lbl_encode.fit_transform(heartdf['RestingECG'])"
   ]
  },
  {
   "cell_type": "code",
   "execution_count": 15,
   "id": "7038929e",
   "metadata": {},
   "outputs": [],
   "source": [
    "heartdf['ExerciseAngina'] = lbl_encode.fit_transform(heartdf['ExerciseAngina'])"
   ]
  },
  {
   "cell_type": "code",
   "execution_count": 16,
   "id": "a81933d4",
   "metadata": {},
   "outputs": [],
   "source": [
    "heartdf.info()"
   ]
  },
  {
   "cell_type": "code",
   "execution_count": 17,
   "id": "ea285f6a",
   "metadata": {},
   "outputs": [],
   "source": [
    "heartdf['Oldpeak'] = heartdf['Oldpeak'].astype(int)"
   ]
  },
  {
   "cell_type": "code",
   "execution_count": 18,
   "id": "9b91de14",
   "metadata": {},
   "outputs": [],
   "source": [
    "heartdf['RestingECG'] = lbl_encode.fit_transform(heartdf['RestingECG'])"
   ]
  },
  {
   "cell_type": "code",
   "execution_count": 19,
   "id": "b7d4596b",
   "metadata": {},
   "outputs": [],
   "source": [
    "heartdf['ST_Slope'] = lbl_encode.fit_transform(heartdf['ST_Slope'])"
   ]
  },
  {
   "cell_type": "code",
   "execution_count": 20,
   "id": "a8e644d9",
   "metadata": {},
   "outputs": [],
   "source": [
    "heartdf.info()"
   ]
  },
  {
   "cell_type": "code",
   "execution_count": 21,
   "id": "62dfab32",
   "metadata": {},
   "outputs": [],
   "source": [
    "x = heartdf.drop(columns = 'HeartDisease',axis = 1)\n",
    "y = heartdf['HeartDisease']"
   ]
  },
  {
   "cell_type": "code",
   "execution_count": 22,
   "id": "4d5479ed",
   "metadata": {},
   "outputs": [],
   "source": [
    "print(x)"
   ]
  },
  {
   "cell_type": "code",
   "execution_count": 23,
   "id": "1e132a9e",
   "metadata": {},
   "outputs": [],
   "source": [
    "y"
   ]
  },
  {
   "cell_type": "code",
   "execution_count": 24,
   "id": "1893f8a8",
   "metadata": {},
   "outputs": [],
   "source": [
    "heartdf['ChestPainType'].value_counts().plot.barh();"
   ]
  },
  {
   "cell_type": "code",
   "execution_count": 25,
   "id": "e01182e7",
   "metadata": {},
   "outputs": [],
   "source": [
    "heartdf['ExerciseAngina'].value_counts().plot.barh();\n"
   ]
  },
  {
   "cell_type": "code",
   "execution_count": 26,
   "id": "99563ef7",
   "metadata": {},
   "outputs": [],
   "source": [
    "import seaborn as sns\n",
    "sns.pairplot(heartdf,corner=True,hue='Sex');\n"
   ]
  },
  {
   "cell_type": "code",
   "execution_count": null,
   "id": "ce283da3",
   "metadata": {},
   "outputs": [],
   "source": [
    "x_train,x_test,y_train,y_test = train_test_split(x,y, test_size = 0.2,stratify = y,random_state = 2)"
   ]
  },
  {
   "cell_type": "code",
   "execution_count": null,
   "id": "810bfe4f",
   "metadata": {},
   "outputs": [],
   "source": [
    "model = LogisticRegression()"
   ]
  },
  {
   "cell_type": "code",
   "execution_count": null,
   "id": "7b2f2a6e",
   "metadata": {},
   "outputs": [],
   "source": [
    "model.fit(x_train,y_train)"
   ]
  },
  {
   "cell_type": "code",
   "execution_count": null,
   "id": "2c7120e7",
   "metadata": {},
   "outputs": [],
   "source": [
    "x_train_prediction = model.predict(x_train)\n",
    "training_heartdf_accuracy = accuracy_score(x_train_prediction,y_train)"
   ]
  },
  {
   "cell_type": "code",
   "execution_count": null,
   "id": "758d010e",
   "metadata": {},
   "outputs": [],
   "source": [
    "print('Accuracy on Training heartdf: ',training_heartdf_accuracy)"
   ]
  },
  {
   "cell_type": "code",
   "execution_count": null,
   "id": "e9a753ff",
   "metadata": {},
   "outputs": [],
   "source": [
    "x_test_prediction = model.predict(x_test)\n",
    "test_heartdf_accuracy = accuracy_score(x_test_prediction,y_test)"
   ]
  },
  {
   "cell_type": "code",
   "execution_count": null,
   "id": "5ecd44bf",
   "metadata": {},
   "outputs": [],
   "source": [
    "print('Accuracy on Training heartdf: ',test_heartdf_accuracy)"
   ]
  },
  {
   "cell_type": "code",
   "execution_count": null,
   "id": "ad823ae6",
   "metadata": {},
   "outputs": [],
   "source": [
    "heartdf.head()"
   ]
  },
  {
   "cell_type": "code",
   "execution_count": null,
   "id": "9c1bbdec",
   "metadata": {},
   "outputs": [],
   "source": [
    "heartdf.tail()"
   ]
  },
  {
   "cell_type": "code",
   "execution_count": null,
   "id": "63a96225",
   "metadata": {},
   "outputs": [],
   "source": [
    "heartdf.info()"
   ]
  },
  {
   "cell_type": "code",
   "execution_count": null,
   "id": "dd244596",
   "metadata": {},
   "outputs": [],
   "source": [
    "\n",
    "print(\"Enter the data(age,sex,chest pain type,restingbp,cholestrol,fastingbs,resting ecg,maxhr,exerciseangina,oldpeak,st_slope,heartdisease):\")\n",
    "input_heartdf=list(map(int,input().split()))\n",
    "input_heartdf_as_numpy_array = np.asarray(input_heartdf)\n",
    "\n",
    "input_heartdf_reshaped = input_heartdf_as_numpy_array.reshape(1,-1)\n",
    "\n",
    "prediction = model.predict(input_heartdf_reshaped)\n",
    "\n",
    "print(prediction)\n",
    "\n",
    "if(prediction[0] == 1):\n",
    "    print('Person has a heart disease')\n",
    "else:\n",
    "    print('person doesnot have a heart disease')"
   ]
  },
  {
   "cell_type": "code",
   "execution_count": null,
   "id": "e7dafad5",
   "metadata": {},
   "outputs": [],
   "source": []
  }
 ],
 "metadata": {
  "kernelspec": {
   "display_name": "Python 3 (ipykernel)",
   "language": "python",
   "name": "python3"
  },
  "language_info": {
   "codemirror_mode": {
    "name": "ipython",
    "version": 3
   },
   "file_extension": ".py",
   "mimetype": "text/x-python",
   "name": "python",
   "nbconvert_exporter": "python",
   "pygments_lexer": "ipython3",
   "version": "3.9.16"
  }
 },
 "nbformat": 4,
 "nbformat_minor": 5
}
