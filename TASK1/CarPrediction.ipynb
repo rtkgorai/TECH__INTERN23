{
 "cells": [
  {
   "cell_type": "code",
   "execution_count": null,
   "id": "b1a86d55",
   "metadata": {
    "scrolled": true
   },
   "outputs": [],
   "source": [
    "import pandas as pd\n",
    "import numpy as np\n",
    "from sklearn.model_selection import train_test_split\n",
    "from sklearn.linear_model import LinearRegression\n",
    "from sklearn.metrics import r2_score\n",
    "from sklearn.preprocessing import OneHotEncoder\n",
    "f=pd.read_csv('Sport car price.csv')\n",
    "car_df=f[['Car Make','Car Model','Year','0-60 MPH Time (seconds)','Price (in USD)']]\n",
    "car_df['Price (in USD)']=f['Price (in USD)'].str.replace(',','').astype(int)\n",
    "car_df['0-60 MPH Time (seconds)']=f['0-60 MPH Time (seconds)'].str.replace('< ','').astype(float)"
   ]
  },
  {
   "cell_type": "code",
   "execution_count": null,
   "id": "6f5de5a9",
   "metadata": {},
   "outputs": [],
   "source": [
    "car_df.info()"
   ]
  },
  {
   "cell_type": "code",
   "execution_count": null,
   "id": "cf7ad3e3",
   "metadata": {},
   "outputs": [],
   "source": [
    "car_df.dtypes"
   ]
  },
  {
   "cell_type": "code",
   "execution_count": null,
   "id": "ebedf495",
   "metadata": {},
   "outputs": [],
   "source": [
    "X=car_df.drop('Price (in USD)',axis=1)\n",
    "y=car_df['Price (in USD)']"
   ]
  },
  {
   "cell_type": "code",
   "execution_count": null,
   "id": "4d39c8e5",
   "metadata": {},
   "outputs": [],
   "source": [
    "X_train, X_test, y_train, y_test=train_test_split(X, y, test_size=0.2, random_state=50)"
   ]
  },
  {
   "cell_type": "code",
   "execution_count": null,
   "id": "2ce0a6a2",
   "metadata": {},
   "outputs": [],
   "source": [
    "ohe=OneHotEncoder()\n",
    "ohe.fit(X[['Car Make','Car Model']])"
   ]
  },
  {
   "cell_type": "code",
   "execution_count": null,
   "id": "69602cf2",
   "metadata": {},
   "outputs": [],
   "source": [
    "import seaborn as sns\n",
    "import matplotlib.pyplot as plt"
   ]
  },
  {
   "cell_type": "code",
   "execution_count": null,
   "id": "e53825f1",
   "metadata": {},
   "outputs": [],
   "source": [
    "sns.histplot(data=car_df,x='Price (in USD)')\n",
    "plt.xlabel('Price')\n",
    "plt.ylabel('Frequency')\n",
    "plt.title('Distribution of Car Prices')\n",
    "plt.show()"
   ]
  },
  {
   "cell_type": "code",
   "execution_count": null,
   "id": "338ca2b7",
   "metadata": {},
   "outputs": [],
   "source": [
    "sns.boxplot(data=car_df, x='Car Make', y='Price (in USD)')\n",
    "plt.xticks(rotation=90)\n",
    "plt.xlabel('Car Make')\n",
    "plt.ylabel('Price (in USD)')\n",
    "plt.title('Car Prices by Car Maker')\n",
    "plt.show()"
   ]
  },
  {
   "cell_type": "code",
   "execution_count": null,
   "id": "2b3c2608",
   "metadata": {},
   "outputs": [],
   "source": [
    "from sklearn.compose import make_column_transformer\n",
    "from sklearn.pipeline import make_pipeline"
   ]
  },
  {
   "cell_type": "code",
   "execution_count": null,
   "id": "6d0c5a2f",
   "metadata": {},
   "outputs": [],
   "source": [
    "col_trans=make_column_transformer((OneHotEncoder(categories=ohe.categories_),['Car Make','Car Model']),remainder='passthrough')\n",
    "lr=LinearRegression()\n",
    "pipe=make_pipeline(col_trans,lr)\n",
    "pipe.fit(X_train,y_train)"
   ]
  },
  {
   "cell_type": "code",
   "execution_count": null,
   "id": "9da71831",
   "metadata": {},
   "outputs": [],
   "source": [
    "y_pred=pipe.predict(X_test)\n",
    "r2_score(y_test,y_pred)"
   ]
  },
  {
   "cell_type": "code",
   "execution_count": null,
   "id": "8e4fc542",
   "metadata": {},
   "outputs": [],
   "source": [
    "car_df.head()"
   ]
  },
  {
   "cell_type": "code",
   "execution_count": null,
   "id": "6696c449",
   "metadata": {},
   "outputs": [],
   "source": [
    "pipe.predict(pd.DataFrame([['Porsche','911',2022,4.0]],columns=['Car Make','Car Model','Year','0-60 MPH Time (seconds)']))"
   ]
  },
  {
   "cell_type": "code",
   "execution_count": null,
   "id": "023e2360",
   "metadata": {},
   "outputs": [],
   "source": [
    "#prediction"
   ]
  },
  {
   "cell_type": "code",
   "execution_count": null,
   "id": "222da289",
   "metadata": {},
   "outputs": [],
   "source": [
    "while True:\n",
    "    print('If want to predict press \"p\" and for quit press \"q\" ')\n",
    "    pr=input()\n",
    "    if(pr=='p'):\n",
    "        a=input('Enter Car Company:')\n",
    "        b=input('Enter Car Model:')\n",
    "        c=input('Enter Year of Car:')\n",
    "        d=input('0-60 Km/s Time:')\n",
    "        e=pipe.predict(pd.DataFrame([[a,b,c,d]],columns=['Car Make','Car Model','Year','0-60 MPH Time (seconds)']))\n",
    "        print('The car value is $',e[0])\n",
    "    else:\n",
    "        break;"
   ]
  },
  {
   "cell_type": "code",
   "execution_count": null,
   "id": "d0ad7a5e",
   "metadata": {},
   "outputs": [],
   "source": []
  }
 ],
 "metadata": {
  "kernelspec": {
   "display_name": "Python 3 (ipykernel)",
   "language": "python",
   "name": "python3"
  },
  "language_info": {
   "codemirror_mode": {
    "name": "ipython",
    "version": 3
   },
   "file_extension": ".py",
   "mimetype": "text/x-python",
   "name": "python",
   "nbconvert_exporter": "python",
   "pygments_lexer": "ipython3",
   "version": "3.9.16"
  }
 },
 "nbformat": 4,
 "nbformat_minor": 5
}
